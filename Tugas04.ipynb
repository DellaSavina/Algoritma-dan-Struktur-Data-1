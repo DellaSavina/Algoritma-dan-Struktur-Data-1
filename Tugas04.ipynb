{
 "cells": [
  {
   "cell_type": "code",
   "execution_count": 1,
   "metadata": {},
   "outputs": [
    {
     "name": "stdout",
     "output_type": "stream",
     "text": [
      "Hasil 10 + 6 = 16\n",
      "Hasil 10 - 6 = 4\n",
      "Hasil 10 * 6 = 60\n",
      "Hasil 10 / 6 = 1.6666666666666667\n",
      "Hasil 10 % 6 = 4\n",
      "Hasil 10 ** 6 = 1000000\n"
     ]
    }
   ],
   "source": [
    "#Della Savina\n",
    "a = 10 \n",
    "b = 6\n",
    "#Menggunakan operator penjumlahan\n",
    "c= a + b\n",
    "print (\"Hasil\", a, \"+\", b, \"=\", c)\n",
    "\n",
    "#Menggunakan operator pengurangan\n",
    "d= a - b\n",
    "print (\"Hasil\", a, \"-\", b, \"=\", d)\n",
    "\n",
    "#Menggunakan operator perkalian\n",
    "e= a * b\n",
    "print (\"Hasil\", a, \"*\", b, \"=\", e)\n",
    "\n",
    "#Menggunakan operator pembagian\n",
    "f= a / b\n",
    "print (\"Hasil\", a, \"/\", b, \"=\", f)\n",
    "\n",
    "#Menggunakan operator sisa bagi\n",
    "g= a % b\n",
    "print (\"Hasil\", a, \"%\", b, \"=\", g)\n",
    "\n",
    "#Menggunakan operator pemangkatan\n",
    "h = a ** b\n",
    "print (\"Hasil\", a, \"**\", b, \"=\", h)"
   ]
  },
  {
   "cell_type": "code",
   "execution_count": 3,
   "metadata": {},
   "outputs": [
    {
     "name": "stdout",
     "output_type": "stream",
     "text": [
      "70\n",
      "80\n",
      "70\n",
      "700\n",
      "70.0\n",
      "0.0\n",
      "0.0\n"
     ]
    }
   ],
   "source": [
    "#DELLA SAVINA\n",
    "\n",
    "a = 70 #contoh operator penuasan pengisian nilai\n",
    "print (a)\n",
    "\n",
    "a += 10 # jumlahkan nilai a dengan operator penugasan untuk menjumlahkan\n",
    "\n",
    "#setelah nilai a ditambah 10, tampilkan isinya\n",
    "print (a)\n",
    "\n",
    "a -= 10\n",
    "print (a)\n",
    "\n",
    "a *= 10\n",
    "print (a)\n",
    "\n",
    "a /= 10\n",
    "print (a)\n",
    "\n",
    "a %= 10\n",
    "print (a)\n",
    "\n",
    "a **= 10\n",
    "print (a)\n",
    "\n"
   ]
  },
  {
   "cell_type": "code",
   "execution_count": 5,
   "metadata": {},
   "outputs": [
    {
     "name": "stdout",
     "output_type": "stream",
     "text": [
      "Apakah a lebih besar dari b: True\n",
      "Apakah a lebih kecil dari b: False\n",
      "Apakah a sama dengan b: False\n",
      "Apakah a tidak sama dengan b: True\n",
      "Apakah a lebih besar sama dengan b: True\n",
      "Apakah a lebih kecil sama dengan b: False\n"
     ]
    }
   ],
   "source": [
    "#DELLA SAVINA\n",
    "\n",
    "a = 200\n",
    "b = 50\n",
    "\n",
    "\n",
    "#apakah a lebih besar dari b?\n",
    "c = a > b\n",
    "\n",
    "print (\"Apakah a lebih besar dari b:\", c)\n",
    "\n",
    "#apakah a lebih kecil dari b?\n",
    "d = a < b\n",
    "\n",
    "print (\"Apakah a lebih kecil dari b:\", d)\n",
    "\n",
    "#apakah a sama dengan b?\n",
    "e = a == b\n",
    "\n",
    "print (\"Apakah a sama dengan b:\", e)\n",
    "\n",
    "#apakah a tidak sama dengan b?\n",
    "f = a != b\n",
    "\n",
    "print (\"Apakah a tidak sama dengan b:\", f)\n",
    "\n",
    "#apakah a lebih besar sama dengan b?\n",
    "g = a >= b\n",
    "\n",
    "print (\"Apakah a lebih besar sama dengan b:\", g)\n",
    "\n",
    "#apakah a lebih kecil sama dengan b?\n",
    "h = a <= b\n",
    "\n",
    "print (\"Apakah a lebih kecil sama dengan b:\", h)\n"
   ]
  },
  {
   "cell_type": "code",
   "execution_count": 7,
   "metadata": {},
   "outputs": [
    {
     "name": "stdout",
     "output_type": "stream",
     "text": [
      "False\n",
      "True\n",
      "True\n"
     ]
    }
   ],
   "source": [
    "#DELLA SAVINA\n",
    "\n",
    "a = True\n",
    "b = False\n",
    "\n",
    "#Logika AND\n",
    "c = a and b\n",
    "print(c)\n",
    "\n",
    "#Logika OR\n",
    "d = a or b\n",
    "print(d)\n",
    "\n",
    "#Logika NOT\n",
    "e = a | b\n",
    "print(e)"
   ]
  },
  {
   "cell_type": "code",
   "execution_count": 13,
   "metadata": {},
   "outputs": [
    {
     "name": "stdout",
     "output_type": "stream",
     "text": [
      "masukkan nama bayi muni\n",
      "masukkan berat badan bayi 2\n",
      "Nama bayi adalah  muni\n",
      "Berat dalam KG adalah  2\n",
      "Berat dalam Ons  20\n",
      "Berat bayi 1 bulan ke depan harus ditambahkan 30 Ons sehingga menjadi  50 Ons\n"
     ]
    }
   ],
   "source": [
    "#DELLA SAVINA\n",
    "nama_bayi = input(\"masukkan nama bayi \")\n",
    "berat_badan_bayi = int(input(\"masukkan berat badan bayi \"))\n",
    "print (\"Nama bayi adalah \", nama_bayi)\n",
    "print (\"Berat dalam KG adalah \", berat_badan_bayi)\n",
    "\n",
    "berat_badan_bayi_ons = berat_badan_bayi*10\n",
    "berat_1bulan_kedepan = berat_badan_bayi_ons + 30\n",
    "\n",
    "print (\"Berat dalam Ons \",berat_badan_bayi_ons)\n",
    "print (\"Berat bayi 1 bulan ke depan harus ditambahkan 30 Ons sehingga menjadi \",berat_1bulan_kedepan, \"Ons\")"
   ]
  },
  {
   "cell_type": "code",
   "execution_count": null,
   "metadata": {},
   "outputs": [],
   "source": []
  }
 ],
 "metadata": {
  "kernelspec": {
   "display_name": "Python 3",
   "language": "python",
   "name": "python3"
  },
  "language_info": {
   "codemirror_mode": {
    "name": "ipython",
    "version": 3
   },
   "file_extension": ".py",
   "mimetype": "text/x-python",
   "name": "python",
   "nbconvert_exporter": "python",
   "pygments_lexer": "ipython3",
   "version": "3.8.3"
  }
 },
 "nbformat": 4,
 "nbformat_minor": 4
}
