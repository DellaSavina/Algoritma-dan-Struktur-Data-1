{
 "cells": [
  {
   "cell_type": "code",
   "execution_count": 2,
   "metadata": {
    "scrolled": true
   },
   "outputs": [
    {
     "name": "stdout",
     "output_type": "stream",
     "text": [
      "30\n",
      "3.14\n",
      "50\n",
      "ini variabel milik Della Savina\n",
      "ini variabel milik Della Savina adalah 50\n"
     ]
    }
   ],
   "source": [
    "#Della Savina\n",
    "Var =30     #variabel:Var\n",
    "phi = 3.14  #variabel:phi\n",
    "Var2 = 50   #variabel:Var2\n",
    "Variabel_saya = \"ini variabel milik Della Savina\" #variabel:Variable_saya\n",
    "\n",
    "print (Var)\n",
    "print (phi)\n",
    "print (Var2)\n",
    "print (Variabel_saya)\n",
    "print (Variabel_saya, \"adalah\", Var2)\n"
   ]
  },
  {
   "cell_type": "code",
   "execution_count": 3,
   "metadata": {},
   "outputs": [
    {
     "name": "stdout",
     "output_type": "stream",
     "text": [
      "30\n",
      "3.14\n",
      "50\n",
      "ini variabel milik Della Savina\n",
      "ini variabel milik Della Savina adalah 50\n"
     ]
    },
    {
     "ename": "NameError",
     "evalue": "name 'Var2' is not defined",
     "output_type": "error",
     "traceback": [
      "\u001b[1;31m---------------------------------------------------------------------------\u001b[0m",
      "\u001b[1;31mNameError\u001b[0m                                 Traceback (most recent call last)",
      "\u001b[1;32m<ipython-input-3-d488babde743>\u001b[0m in \u001b[0;36m<module>\u001b[1;34m\u001b[0m\n\u001b[0;32m     11\u001b[0m \u001b[1;33m\u001b[0m\u001b[0m\n\u001b[0;32m     12\u001b[0m \u001b[1;32mdel\u001b[0m\u001b[1;33m(\u001b[0m\u001b[0mVar2\u001b[0m\u001b[1;33m)\u001b[0m\u001b[1;33m\u001b[0m\u001b[1;33m\u001b[0m\u001b[0m\n\u001b[1;32m---> 13\u001b[1;33m \u001b[0mprint\u001b[0m\u001b[1;33m(\u001b[0m\u001b[0mVar2\u001b[0m\u001b[1;33m)\u001b[0m\u001b[1;33m\u001b[0m\u001b[1;33m\u001b[0m\u001b[0m\n\u001b[0m",
      "\u001b[1;31mNameError\u001b[0m: name 'Var2' is not defined"
     ]
    }
   ],
   "source": [
    "Var =30     #variabel:Var\n",
    "phi = 3.14  #variabel:phi\n",
    "Var2 = 50   #variabel:Var2\n",
    "Variabel_saya = \"ini variabel milik Della Savina\" #variabel:Variable_saya\n",
    "\n",
    "print (Var)\n",
    "print (phi)\n",
    "print (Var2)\n",
    "print (Variabel_saya)\n",
    "print (Variabel_saya, \"adalah\", Var2)\n",
    "\n",
    "del(Var2)\n",
    "print(Var2)"
   ]
  },
  {
   "cell_type": "code",
   "execution_count": 11,
   "metadata": {},
   "outputs": [
    {
     "name": "stdout",
     "output_type": "stream",
     "text": [
      "Della\n",
      "\n",
      "        Jl. Citarum, RT 07 \n",
      "        Kelurahan Slawi wetan, Slawi\n",
      "\n",
      "mendengarkan musik\n"
     ]
    }
   ],
   "source": [
    "nama = \"Della\" \n",
    "alamat = \"\"\"\n",
    "        Jl. Citarum, RT 07 \n",
    "        Kelurahan Slawi wetan, Slawi\n",
    "\"\"\"\n",
    "hobi = 'mendengarkan musik'\n",
    "print (nama)\n",
    "print (alamat)\n",
    "print (hobi)"
   ]
  },
  {
   "cell_type": "code",
   "execution_count": 12,
   "metadata": {},
   "outputs": [
    {
     "name": "stdout",
     "output_type": "stream",
     "text": [
      "True\n",
      "False\n"
     ]
    }
   ],
   "source": [
    "a = True\n",
    "b = False\n",
    "print(a)\n",
    "print(b)"
   ]
  },
  {
   "cell_type": "code",
   "execution_count": 13,
   "metadata": {},
   "outputs": [
    {
     "name": "stdout",
     "output_type": "stream",
     "text": [
      "False\n"
     ]
    }
   ],
   "source": [
    "perbandingan = 12 < 10\n",
    "print (perbandingan)"
   ]
  },
  {
   "cell_type": "code",
   "execution_count": 14,
   "metadata": {},
   "outputs": [
    {
     "name": "stdout",
     "output_type": "stream",
     "text": [
      "False\n"
     ]
    }
   ],
   "source": [
    "print (12 < 10)"
   ]
  },
  {
   "cell_type": "code",
   "execution_count": 15,
   "metadata": {},
   "outputs": [
    {
     "name": "stdout",
     "output_type": "stream",
     "text": [
      "3.3333333333333335\n"
     ]
    }
   ],
   "source": [
    "a = 10 \n",
    "b = 3\n",
    "c = a/b\n",
    "print (c)"
   ]
  },
  {
   "cell_type": "code",
   "execution_count": 16,
   "metadata": {},
   "outputs": [
    {
     "name": "stdout",
     "output_type": "stream",
     "text": [
      "0b1010\n"
     ]
    }
   ],
   "source": [
    "a = 10\n",
    "print (bin (a))"
   ]
  },
  {
   "cell_type": "code",
   "execution_count": 1,
   "metadata": {},
   "outputs": [
    {
     "name": "stdout",
     "output_type": "stream",
     "text": [
      "0xa\n"
     ]
    }
   ],
   "source": [
    "a = 10\n",
    "print (hex (a))"
   ]
  },
  {
   "cell_type": "code",
   "execution_count": null,
   "metadata": {},
   "outputs": [],
   "source": []
  }
 ],
 "metadata": {
  "kernelspec": {
   "display_name": "Python 3",
   "language": "python",
   "name": "python3"
  },
  "language_info": {
   "codemirror_mode": {
    "name": "ipython",
    "version": 3
   },
   "file_extension": ".py",
   "mimetype": "text/x-python",
   "name": "python",
   "nbconvert_exporter": "python",
   "pygments_lexer": "ipython3",
   "version": "3.8.3"
  }
 },
 "nbformat": 4,
 "nbformat_minor": 4
}
