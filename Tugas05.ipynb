{
 "cells": [
  {
   "cell_type": "code",
   "execution_count": 2,
   "metadata": {},
   "outputs": [
    {
     "name": "stdout",
     "output_type": "stream",
     "text": [
      "I Like Programming\n",
      "Because I proud to make something new\n"
     ]
    }
   ],
   "source": [
    "#Della Savina\n",
    "\n",
    "#Fungsi pertama\n",
    "def Reason():\n",
    "    print(\"Because I proud to make something new\")\n",
    "#Fungsi kedua\n",
    "def Hobby():\n",
    "    print(\"I Like Programming\")\n",
    "\n",
    "Hobby()\n",
    "Reason()"
   ]
  },
  {
   "cell_type": "code",
   "execution_count": 8,
   "metadata": {},
   "outputs": [
    {
     "name": "stdout",
     "output_type": "stream",
     "text": [
      "Nama saya adalah Della Savina\n",
      "Luas persegi panjang 50\n",
      "Luas persegi panjang 5000\n"
     ]
    }
   ],
   "source": [
    "#Della Savina\n",
    "def perkenalan_diri():\n",
    "    perkenalan_diri=input(\"Nama saya adalah \")\n",
    "def luas_persegi_panjang(panjang, lebar):\n",
    "    luas= panjang * lebar\n",
    "    print(\"Luas persegi panjang\", luas)\n",
    "\n",
    "perkenalan_diri()\n",
    "luas_persegi_panjang(5, 10)\n",
    "luas_persegi_panjang(100, 50)"
   ]
  },
  {
   "cell_type": "code",
   "execution_count": 23,
   "metadata": {},
   "outputs": [
    {
     "name": "stdout",
     "output_type": "stream",
     "text": [
      "panjang 40\n",
      "lebar 25\n",
      "tinggi 10\n",
      "Luas persegi panjang adalah  1000\n",
      "Volume balok adalah  10000\n"
     ]
    }
   ],
   "source": [
    "#Della Savina\n",
    "\n",
    "p=int(input(\"panjang \"))\n",
    "l=int(input(\"lebar \"))\n",
    "t=int(input(\"tinggi \"))\n",
    "def luas_persegi_panjang ():\n",
    "    luas=p*l\n",
    "    return luas\n",
    "def volume_balok ():\n",
    "    volume=luas_persegi_panjang ()*t\n",
    "    return volume\n",
    "\n",
    "print(\"Luas persegi panjang adalah \", luas_persegi_panjang())\n",
    "print(\"Volume balok adalah \", volume_balok())"
   ]
  },
  {
   "cell_type": "code",
   "execution_count": 3,
   "metadata": {},
   "outputs": [
    {
     "name": "stdout",
     "output_type": "stream",
     "text": [
      "angka1 70\n",
      "angka2 50\n",
      "Apakah angka1 sama dengan angka2 : False\n",
      "Apakah angka1 lebih dari angka2 : True\n"
     ]
    }
   ],
   "source": [
    "#Della Savina\n",
    "\n",
    "angka1 = int(input(\"angka1 \"))\n",
    "angka2 = int(input(\"angka2 \"))\n",
    "\n",
    "def sama_dengan(angka1, angka2):\n",
    "    sm_dgn = angka1==angka2\n",
    "    print(\"Apakah angka1 sama dengan angka2 :\", sm_dgn)\n",
    "    \n",
    "def lebih_besar(angka1, angka2):\n",
    "    lbh_bsr = angka1>angka2\n",
    "    print(\"Apakah angka1 lebih dari angka2 :\", lbh_bsr)\n",
    "\n",
    "sama_dengan(angka1, angka2)\n",
    "lebih_besar(angka1, angka2)"
   ]
  },
  {
   "cell_type": "code",
   "execution_count": null,
   "metadata": {},
   "outputs": [],
   "source": []
  }
 ],
 "metadata": {
  "kernelspec": {
   "display_name": "Python 3",
   "language": "python",
   "name": "python3"
  },
  "language_info": {
   "codemirror_mode": {
    "name": "ipython",
    "version": 3
   },
   "file_extension": ".py",
   "mimetype": "text/x-python",
   "name": "python",
   "nbconvert_exporter": "python",
   "pygments_lexer": "ipython3",
   "version": "3.8.3"
  }
 },
 "nbformat": 4,
 "nbformat_minor": 4
}
