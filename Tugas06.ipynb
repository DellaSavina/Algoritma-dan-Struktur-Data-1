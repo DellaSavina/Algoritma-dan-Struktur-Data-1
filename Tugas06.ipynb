{
 "cells": [
  {
   "cell_type": "code",
   "execution_count": 6,
   "metadata": {},
   "outputs": [
    {
     "name": "stdout",
     "output_type": "stream",
     "text": [
      "Masukkan nilai :56\n",
      "Kamu harus ikut remidi\n"
     ]
    }
   ],
   "source": [
    "#Della Savina\n",
    "nilai = int(input(\"Masukkan nilai :\"))\n",
    "\n",
    "if nilai <= 70:\n",
    "    print(\"Kamu harus ikut remidi\")"
   ]
  },
  {
   "cell_type": "code",
   "execution_count": 7,
   "metadata": {},
   "outputs": [
    {
     "name": "stdout",
     "output_type": "stream",
     "text": [
      "Masukkan nilai :90\n"
     ]
    }
   ],
   "source": [
    "#DElla Savina\n",
    "nilai = int(input(\"Masukkan nilai :\"))\n",
    "\n",
    "if nilai <= 70:\n",
    "    print(\"Kamu harus ikut remidi\")"
   ]
  },
  {
   "cell_type": "code",
   "execution_count": 18,
   "metadata": {},
   "outputs": [
    {
     "name": "stdout",
     "output_type": "stream",
     "text": [
      "Masukkan jari-jari lingkaran :10\n",
      "Luas lingkaran 314.0\n",
      "Lingkaran ini kecil\n"
     ]
    }
   ],
   "source": [
    "#Della Savina\n",
    "r = int(input(\"Masukkan jari-jari lingkaran :\"))\n",
    "L= 3.14 *r*r\n",
    "print(\"Luas lingkaran\", L)\n",
    "\n",
    "if L > 314:\n",
    "    print(\"Lingkaran ini besar\")\n",
    "else:\n",
    "    print(\"Lingkaran ini kecil\")"
   ]
  },
  {
   "cell_type": "code",
   "execution_count": 17,
   "metadata": {},
   "outputs": [
    {
     "name": "stdout",
     "output_type": "stream",
     "text": [
      "Masukkan jari-jari lingkaran :20\n",
      "Luas lingkaran 1256.0\n",
      "Lingkaran ini besar\n"
     ]
    }
   ],
   "source": [
    "#Della Savina\n",
    "r = int(input(\"Masukkan jari-jari lingkaran :\"))\n",
    "L= 3.14 *r*r\n",
    "print(\"Luas lingkaran\", L)\n",
    "\n",
    "if L > 314:\n",
    "    print(\"Lingkaran ini besar\")\n",
    "else:\n",
    "    print(\"Lingkaran ini kecil\")"
   ]
  },
  {
   "cell_type": "code",
   "execution_count": 84,
   "metadata": {},
   "outputs": [
    {
     "name": "stdout",
     "output_type": "stream",
     "text": [
      "Masukkan nomer program yang dipilih :1\n",
      "Masukkan panjang, 20\n",
      "Masukkan lebar, 10\n",
      "Masukkan tinggi, 5\n",
      "volume balok  1000\n"
     ]
    }
   ],
   "source": [
    "def VB():\n",
    "    p=int(input(\"Masukkan panjang \"))\n",
    "    l=int(input(\"Masukkan lebar \"))\n",
    "    t=int(input(\"Masukkan tinggi \"))\n",
    "    v_balok =p*l*t\n",
    "    return v_balok\n",
    "\n",
    "\n",
    "def v_kubus():\n",
    "    s=int(input(\"Masukkan sisi= \"))\n",
    "    v_kubus= s*s*s\n",
    "    return v_kubus\n",
    "\n",
    "Pilih_program = int(input(\"Masukkan nomer program yang dipilih :\"))\n",
    "\n",
    "if Pilih_program ==1:\n",
    "    print(\"volume balok \", v_balok())\n",
    "elif Pilih_program ==2:\n",
    "    print(\"volume kubus \",v_kubus())\n",
    "else:\n",
    "    print(\"Program tidak tersedia\")\n",
    "\n"
   ]
  },
  {
   "cell_type": "code",
   "execution_count": 83,
   "metadata": {},
   "outputs": [
    {
     "name": "stdout",
     "output_type": "stream",
     "text": [
      "Masukkan nomer program yang dipilih :2\n",
      "Masukkan sisi : 6\n",
      "volume kubus  216\n"
     ]
    }
   ],
   "source": [
    "def VB():\n",
    "    p=int(input(\"Masukkan panjang, \"))\n",
    "    l=int(input(\"Masukkan lebar, \"))\n",
    "    t=int(input(\"Masukkan tinggi, \"))\n",
    "    v_balok =p*l*t\n",
    "    return v_balok\n",
    "\n",
    "\n",
    "def VK():\n",
    "    s=int(input(\"Masukkan sisi : \"))\n",
    "    v_kubus= s*s*s\n",
    "    return v_kubus\n",
    "\n",
    "Pilih_program = int(input(\"Masukkan nomer program yang dipilih :\"))\n",
    "\n",
    "if Pilih_program ==1:\n",
    "    print(\"volume balok \", v_balok())\n",
    "elif Pilih_program ==2:\n",
    "    print(\"volume kubus \", v_kubus())\n",
    "else:\n",
    "    print(\"Program tidak tersedia\")\n",
    "\n"
   ]
  },
  {
   "cell_type": "code",
   "execution_count": 85,
   "metadata": {},
   "outputs": [
    {
     "name": "stdout",
     "output_type": "stream",
     "text": [
      "Masukkan nomer program yang dipilih :3\n",
      "Program tidak tersedia\n"
     ]
    }
   ],
   "source": [
    "def VB():\n",
    "    p=int(input(\"Masukkan panjang, \"))\n",
    "    l=int(input(\"Masukkan lebar, \"))\n",
    "    t=int(input(\"Masukkan tinggi, \"))\n",
    "    v_balok =p*l*t\n",
    "    return v_balok\n",
    "\n",
    "\n",
    "def VK():\n",
    "    s=int(input(\"Masukkan sisi : \"))\n",
    "    v_kubus= s*s*s\n",
    "    return v_kubus\n",
    "\n",
    "Pilih_program = int(input(\"Masukkan nomer program yang dipilih :\"))\n",
    "\n",
    "if Pilih_program ==1:\n",
    "    print(\"volume balok \", v_balok())\n",
    "elif Pilih_program ==2:\n",
    "    print(\"volume kubus \", v_kubus())\n",
    "else:\n",
    "    print(\"Program tidak tersedia\")\n",
    "\n"
   ]
  },
  {
   "cell_type": "code",
   "execution_count": null,
   "metadata": {},
   "outputs": [],
   "source": []
  }
 ],
 "metadata": {
  "kernelspec": {
   "display_name": "Python 3",
   "language": "python",
   "name": "python3"
  },
  "language_info": {
   "codemirror_mode": {
    "name": "ipython",
    "version": 3
   },
   "file_extension": ".py",
   "mimetype": "text/x-python",
   "name": "python",
   "nbconvert_exporter": "python",
   "pygments_lexer": "ipython3",
   "version": "3.8.3"
  }
 },
 "nbformat": 4,
 "nbformat_minor": 4
}
